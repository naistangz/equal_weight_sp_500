{
 "cells": [
  {
   "cell_type": "code",
   "execution_count": null,
   "id": "b94facfb",
   "metadata": {},
   "outputs": [],
   "source": [
    "pip install scipy"
   ]
  },
  {
   "cell_type": "code",
   "execution_count": null,
   "id": "983e2f6d",
   "metadata": {},
   "outputs": [],
   "source": [
    "import requests \n",
    "import pandas as pd \n",
    "import requests \n",
    "import math \n",
    "from scipy import stats\n",
    "import xlsxwriter"
   ]
  },
  {
   "cell_type": "code",
   "execution_count": null,
   "id": "4dbe9894",
   "metadata": {},
   "outputs": [],
   "source": [
    "from starter.secrets import IEX_CLOUD_API_TOKEN\n",
    "stocks = pd.read_csv('starter/sp_500_stocks.csv')\n"
   ]
  },
  {
   "cell_type": "markdown",
   "id": "3074842d",
   "metadata": {},
   "source": [
    "## Getting one-year price returns for each stock in the universe"
   ]
  },
  {
   "cell_type": "code",
   "execution_count": null,
   "id": "d07285ab",
   "metadata": {},
   "outputs": [],
   "source": [
    "symbol = 'aapl'\n",
    "url = f'https://sandbox.iexapis.com/stable/stock/{symbol}/stats?token={IEX_CLOUD_API_TOKEN}'\n",
    "r = requests.get(url)\n",
    "data = r.json()\n",
    "data"
   ]
  },
  {
   "cell_type": "markdown",
   "id": "a7e763a1",
   "metadata": {},
   "source": [
    "## Parsing API call\n"
   ]
  },
  {
   "cell_type": "code",
   "execution_count": null,
   "id": "e4cfd025",
   "metadata": {},
   "outputs": [],
   "source": [
    "change_percent = data['year1ChangePercent']\n",
    "change_percent"
   ]
  },
  {
   "cell_type": "code",
   "execution_count": null,
   "id": "4f6d2260",
   "metadata": {},
   "outputs": [],
   "source": [
    "def chunks(lst, n):\n",
    "    \"\"\"\n",
    "    Splitting list into evenly sized chunks\n",
    "    \"\"\"\n",
    "    for i in range(0, len(lst), n):\n",
    "        yield lst[i:i + n]\n",
    "\n"
   ]
  },
  {
   "cell_type": "code",
   "execution_count": null,
   "id": "66f87b0f",
   "metadata": {},
   "outputs": [],
   "source": [
    "symbol_groups = list(chunks(stocks['Ticker'], 100))\n",
    "symbol_strings = []\n",
    "for i in range(0, len(symbol_groups)):\n",
    "    symbol_strings.append(','.join(symbol_groups[i]))\n",
    "symbol_strings"
   ]
  },
  {
   "cell_type": "code",
   "execution_count": null,
   "id": "e4d42232",
   "metadata": {},
   "outputs": [],
   "source": [
    "columns = ['Ticker', 'Price', 'One-Year Price Return', 'Number of Shares to Buy']\n",
    "final_df = pd.DataFrame(columns=columns)\n",
    "\n",
    "for symbol_string in symbol_strings[:1]:\n",
    "    batch_api_call_url = f'https://sandbox.iexapis.com/stable/stock/market/batch?symbols={symbol_string}&types=stats&token={IEX_CLOUD_API_TOKEN}'\n",
    "    data = requests.get(batch_api_call_url).json()\n",
    "#     print(data['A'])\n",
    "    for symbol in symbol_string.split(','):\n",
    "        final_df = final_df.append(\n",
    "        pd.Series(\n",
    "            [\n",
    "                symbol, \n",
    "                data[symbol]['stats']['week52high'],\n",
    "                data[symbol]['stats']['year1ChangePercent'],\n",
    "                'N/A',\n",
    "            ],\n",
    "            index=columns),\n",
    "            ignore_index=True\n",
    "            )\n",
    "final_df"
   ]
  },
  {
   "cell_type": "markdown",
   "id": "364ccb7d",
   "metadata": {},
   "source": [
    "## Removing Low-Momentum Stocks\n",
    "- We're identifying 50 highest-momentum stocks in the S&P 500\n",
    "- We need to remove all the stocks in our DataFrame that fall below this momentum threshold.\n",
    "- Sort the Dataframe by the stocks one-year price return, drop all stocks outside the top 50."
   ]
  },
  {
   "cell_type": "code",
   "execution_count": null,
   "id": "c67f116e",
   "metadata": {},
   "outputs": [],
   "source": [
    "final_df.sort_values('One-Year Price Return', ascending=False, inplace=True)\n",
    "final_df = final_df[:50]\n",
    "final_df.reset_index(inplace=True) # sets first row as first index \n",
    "final_df "
   ]
  },
  {
   "cell_type": "code",
   "execution_count": null,
   "id": "15c0e83e",
   "metadata": {},
   "outputs": [],
   "source": [
    "## Calculating the number of shares to buy "
   ]
  },
  {
   "cell_type": "code",
   "execution_count": null,
   "id": "e7814d18",
   "metadata": {},
   "outputs": [],
   "source": [
    "def portfolio_size():\n",
    "    global portfolio_size \n",
    "    portfolio_size = input('Enter the size of your portfolio:\\n')\n",
    "    \n",
    "    try:\n",
    "        float(portfolio_size)\n",
    "    except:\n",
    "        print('This is not a number \\n Please try again:')\n",
    "        portfolio_size = input('Enter the size of your portfolio')\n",
    "        \n",
    "portfolio_size()\n",
    "print(portfolio_size)\n",
    "        "
   ]
  },
  {
   "cell_type": "code",
   "execution_count": null,
   "id": "093dd212",
   "metadata": {},
   "outputs": [],
   "source": [
    "position_size = float(portfolio_size)/len(final_df.index)\n",
    "# print(position_size)\n",
    "for i in range(0, len(final_df)):\n",
    "    final_df.loc[i, 'Number of Shares to Buy'] = math.floor(position_size/final_df.loc[i, 'Price'])\n",
    "final_df"
   ]
  },
  {
   "cell_type": "markdown",
   "id": "c8912a87",
   "metadata": {},
   "source": [
    "## Building a realistic momentum strategy \n",
    "- High-quality momentum stocks show 'slow and steady' outperformance over long periods of time \n",
    "- Low-quality momentum stocks might not show any momentum for a long time, and then surge upwards\n",
    "\n",
    "High-quality momentum stocks are preferred because low-quality momentum can often be caused by short-term news that is unlikely to be repeated in the future (such as FDA approval for a biotech company)\n",
    "\n",
    "To identify high-quality momentum, building the following strategies will help select stocks from highest percentiles of\n",
    "1. 1-month price returns \n",
    "2. 3-month price returns \n",
    "3. 6-month price returns \n",
    "4. 1-year price returns \n"
   ]
  },
  {
   "cell_type": "code",
   "execution_count": null,
   "id": "3b3711ca",
   "metadata": {},
   "outputs": [],
   "source": [
    "hqm_columns = [\n",
    "    'Ticker',\n",
    "    'Price',\n",
    "    'Number of Shares to Buy',\n",
    "    'One-year price return',\n",
    "    'One-year return percentile',\n",
    "    'Six-month price return',\n",
    "    'Six-month return percentile',\n",
    "    'Three-month price return',\n",
    "    'Three-month return percentile',\n",
    "    'One-month price return',\n",
    "    'One-month return percentile'\n",
    "]\n",
    "\n",
    "hqm_df = pd.DataFrame(columns=hqm_columns)\n",
    "\n",
    "\n",
    "for symbol_string in symbol_strings:\n",
    "    batch_api_call_url = f\"https://sandbox.iexapis.com/stable/stock/market/batch?symbols={symbol_string}&types=price,stats&token={IEX_CLOUD_API_TOKEN}\"\n",
    "    data = requests.get(batch_api_call_url).json()\n",
    "    for symbol in symbol_string.split(','):\n",
    "        print(data)\n",
    "        hqm_df = hqm_df.append(\n",
    "            \n",
    "            pd.Series(\n",
    "            [\n",
    "                symbol,\n",
    "                data[symbol]['price'],\n",
    "                'N/A',\n",
    "                data[symbol]['stats']['year1ChangePercent'],\n",
    "                'N/A',\n",
    "                data[symbol]['stats']['month6ChangePercent'],\n",
    "                'N/A',\n",
    "                data[symbol]['stats']['month3ChangePercent'],\n",
    "                'N/A',\n",
    "                data[symbol]['stats']['month1ChangePercent'],\n",
    "                'N/A'\n",
    "                \n",
    "            ],\n",
    "            index = hqm_columns),\n",
    "            ignore_index=True\n",
    "        )\n",
    "\n",
    "hqm_df\n",
    "    \n",
    "    "
   ]
  },
  {
   "cell_type": "code",
   "execution_count": null,
   "id": "ca2539bd",
   "metadata": {},
   "outputs": [],
   "source": []
  },
  {
   "cell_type": "code",
   "execution_count": null,
   "id": "1acd80e0",
   "metadata": {},
   "outputs": [],
   "source": []
  }
 ],
 "metadata": {
  "kernelspec": {
   "display_name": "Python 3",
   "language": "python",
   "name": "python3"
  },
  "language_info": {
   "codemirror_mode": {
    "name": "ipython",
    "version": 3
   },
   "file_extension": ".py",
   "mimetype": "text/x-python",
   "name": "python",
   "nbconvert_exporter": "python",
   "pygments_lexer": "ipython3",
   "version": "3.8.6"
  }
 },
 "nbformat": 4,
 "nbformat_minor": 5
}
