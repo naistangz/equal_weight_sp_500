{
 "cells": [
  {
   "cell_type": "markdown",
   "id": "169b233a",
   "metadata": {},
   "source": [
    "## EQUAL-WEIGHT S&P 500 INDEX FUND\n",
    "S&P 500 is the world's most popular stock market index. THe largest fund that is benchmarked to this index is the SPDR S&P 500 ETF Trust.\n",
    "\n",
    "### Objective\n",
    "Create a python script that will accept the value of your portfolio and tell you how many shares of each S&P 500 constituent you should purchase to get an equal-weight version of the index fund.\n",
    "\n",
    "### Equal-weight\n",
    "A type of weighting that gives same weight, or importance, to each stock in a portfolio or index fund\n",
    "e.g smallest companies are given equal weight to largest companies in an equal-weight index fund or portfolio, regardless of size of company or sector."
   ]
  },
  {
   "cell_type": "code",
   "execution_count": 1,
   "id": "1cccfd77",
   "metadata": {},
   "outputs": [
    {
     "name": "stdout",
     "output_type": "stream",
     "text": [
      "Requirement already satisfied: numpy in /Users/anaistang/.virtualenvs/web/lib/python3.8/site-packages (1.20.3)\n",
      "\u001b[33mWARNING: You are using pip version 21.0.1; however, version 21.1.2 is available.\n",
      "You should consider upgrading via the '/Users/anaistang/.virtualenvs/web/bin/python -m pip install --upgrade pip' command.\u001b[0m\n",
      "Requirement already satisfied: pandas in /Users/anaistang/.virtualenvs/web/lib/python3.8/site-packages (1.2.4)\n",
      "Requirement already satisfied: pytz>=2017.3 in /Users/anaistang/.virtualenvs/web/lib/python3.8/site-packages (from pandas) (2020.5)\n",
      "Requirement already satisfied: python-dateutil>=2.7.3 in /Users/anaistang/.virtualenvs/web/lib/python3.8/site-packages (from pandas) (2.8.1)\n",
      "Requirement already satisfied: numpy>=1.16.5 in /Users/anaistang/.virtualenvs/web/lib/python3.8/site-packages (from pandas) (1.20.3)\n",
      "Requirement already satisfied: six>=1.5 in /Users/anaistang/.virtualenvs/web/lib/python3.8/site-packages (from python-dateutil>=2.7.3->pandas) (1.15.0)\n",
      "\u001b[33mWARNING: You are using pip version 21.0.1; however, version 21.1.2 is available.\n",
      "You should consider upgrading via the '/Users/anaistang/.virtualenvs/web/bin/python -m pip install --upgrade pip' command.\u001b[0m\n",
      "Requirement already satisfied: xlsxwriter in /Users/anaistang/.virtualenvs/web/lib/python3.8/site-packages (1.4.3)\n",
      "\u001b[33mWARNING: You are using pip version 21.0.1; however, version 21.1.2 is available.\n",
      "You should consider upgrading via the '/Users/anaistang/.virtualenvs/web/bin/python -m pip install --upgrade pip' command.\u001b[0m\n"
     ]
    }
   ],
   "source": [
    "!pip install numpy\n",
    "!pip install pandas\n",
    "!pip install xlsxwriter\n"
   ]
  },
  {
   "cell_type": "code",
   "execution_count": 2,
   "id": "7f214138",
   "metadata": {},
   "outputs": [],
   "source": [
    "import numpy as np\n",
    "import pandas as pd\n",
    "import requests\n",
    "import xlsxwriter\n",
    "import math "
   ]
  },
  {
   "cell_type": "markdown",
   "id": "eba77ecc",
   "metadata": {},
   "source": [
    "## Importing list of stocks \n",
    "Importing constituents of the S&P 500\n",
    "\n",
    "Constituents change over time, so in an ideal world you would connect directly to the index provider e.g (Standard and Poor's) and pull their real-time constituents on a regular basis.\n"
   ]
  },
  {
   "cell_type": "code",
   "execution_count": 3,
   "id": "0e6ad29c",
   "metadata": {},
   "outputs": [
    {
     "data": {
      "text/html": [
       "<div>\n",
       "<style scoped>\n",
       "    .dataframe tbody tr th:only-of-type {\n",
       "        vertical-align: middle;\n",
       "    }\n",
       "\n",
       "    .dataframe tbody tr th {\n",
       "        vertical-align: top;\n",
       "    }\n",
       "\n",
       "    .dataframe thead th {\n",
       "        text-align: right;\n",
       "    }\n",
       "</style>\n",
       "<table border=\"1\" class=\"dataframe\">\n",
       "  <thead>\n",
       "    <tr style=\"text-align: right;\">\n",
       "      <th></th>\n",
       "      <th>Ticker</th>\n",
       "    </tr>\n",
       "  </thead>\n",
       "  <tbody>\n",
       "    <tr>\n",
       "      <th>0</th>\n",
       "      <td>A</td>\n",
       "    </tr>\n",
       "    <tr>\n",
       "      <th>1</th>\n",
       "      <td>AAL</td>\n",
       "    </tr>\n",
       "    <tr>\n",
       "      <th>2</th>\n",
       "      <td>AAP</td>\n",
       "    </tr>\n",
       "    <tr>\n",
       "      <th>3</th>\n",
       "      <td>AAPL</td>\n",
       "    </tr>\n",
       "    <tr>\n",
       "      <th>4</th>\n",
       "      <td>ABBV</td>\n",
       "    </tr>\n",
       "    <tr>\n",
       "      <th>5</th>\n",
       "      <td>ABC</td>\n",
       "    </tr>\n",
       "    <tr>\n",
       "      <th>6</th>\n",
       "      <td>ABMD</td>\n",
       "    </tr>\n",
       "    <tr>\n",
       "      <th>7</th>\n",
       "      <td>ABT</td>\n",
       "    </tr>\n",
       "    <tr>\n",
       "      <th>8</th>\n",
       "      <td>ACN</td>\n",
       "    </tr>\n",
       "    <tr>\n",
       "      <th>9</th>\n",
       "      <td>ADBE</td>\n",
       "    </tr>\n",
       "    <tr>\n",
       "      <th>10</th>\n",
       "      <td>ADI</td>\n",
       "    </tr>\n",
       "  </tbody>\n",
       "</table>\n",
       "</div>"
      ],
      "text/plain": [
       "   Ticker\n",
       "0       A\n",
       "1     AAL\n",
       "2     AAP\n",
       "3    AAPL\n",
       "4    ABBV\n",
       "5     ABC\n",
       "6    ABMD\n",
       "7     ABT\n",
       "8     ACN\n",
       "9    ADBE\n",
       "10    ADI"
      ]
     },
     "execution_count": 3,
     "metadata": {},
     "output_type": "execute_result"
    }
   ],
   "source": [
    "stocks = pd.read_csv('starter/sp_500_stocks.csv')\n",
    "stocks.head(11)"
   ]
  },
  {
   "cell_type": "markdown",
   "id": "53115e7e",
   "metadata": {},
   "source": [
    "## Acquiring API token from IEX Cloud API token \n",
    "https://cloud.iexapis.com/\n",
    "\n",
    "\n"
   ]
  },
  {
   "cell_type": "code",
   "execution_count": 4,
   "id": "9b9e625f",
   "metadata": {},
   "outputs": [
    {
     "name": "stdout",
     "output_type": "stream",
     "text": [
      "Tpk_c2ab9004d60340108c152c28159204f0\n"
     ]
    }
   ],
   "source": [
    "from starter.secrets import IEX_CLOUD_API_TOKEN\n",
    "print(IEX_CLOUD_API_TOKEN)"
   ]
  },
  {
   "cell_type": "markdown",
   "id": "307cb232",
   "metadata": {},
   "source": [
    "## Making API call to IEX Cloud \n",
    "- Market capitalisation for each stock \n",
    "- Price of each stock "
   ]
  },
  {
   "cell_type": "code",
   "execution_count": 5,
   "id": "a0c17b58",
   "metadata": {},
   "outputs": [
    {
     "name": "stdout",
     "output_type": "stream",
     "text": [
      "https://sandbox.iexapis.com/stable/stock/IBM/quote?token=Tpk_c2ab9004d60340108c152c28159204f0\n"
     ]
    }
   ],
   "source": [
    "symbol = 'IBM'\n",
    "# Real-time stock prices\n",
    "base_url = 'https://sandbox.iexapis.com'\n",
    "query_params = f'?token={IEX_CLOUD_API_TOKEN}'\n",
    "api_call = f\"{base_url}/stable/stock/{symbol}/quote{query_params}\"\n",
    "print(api_call)\n",
    "data = requests.get(api_call)\n",
    "response = data.json()"
   ]
  },
  {
   "cell_type": "code",
   "execution_count": 6,
   "id": "ee25b141",
   "metadata": {},
   "outputs": [
    {
     "name": "stdout",
     "output_type": "stream",
     "text": [
      "151.56 1322.60014574\n"
     ]
    }
   ],
   "source": [
    "price = response['latestPrice']\n",
    "market_cap = response['marketCap']\n",
    "print(price, market_cap/100000000)"
   ]
  },
  {
   "cell_type": "markdown",
   "id": "981c9077",
   "metadata": {},
   "source": [
    "## Adding stocks data to a pandas data frame (tabular data)\n",
    "\n",
    "### Pandas Series\n",
    " - One dimensional labelled array \n",
    " - Axis labels are called index \n",
    " - Pandas series is a column in an excel sheet\n",
    " - Can only contain single list with index\n",
    " \n",
    " ### Dataframe\n",
    " - Can be made of more than one series\n",
    " - Dataframe is collection of series that can be used to analyse data\n"
   ]
  },
  {
   "cell_type": "code",
   "execution_count": 7,
   "id": "3835d85f",
   "metadata": {},
   "outputs": [
    {
     "data": {
      "text/html": [
       "<div>\n",
       "<style scoped>\n",
       "    .dataframe tbody tr th:only-of-type {\n",
       "        vertical-align: middle;\n",
       "    }\n",
       "\n",
       "    .dataframe tbody tr th {\n",
       "        vertical-align: top;\n",
       "    }\n",
       "\n",
       "    .dataframe thead th {\n",
       "        text-align: right;\n",
       "    }\n",
       "</style>\n",
       "<table border=\"1\" class=\"dataframe\">\n",
       "  <thead>\n",
       "    <tr style=\"text-align: right;\">\n",
       "      <th></th>\n",
       "      <th>Ticker</th>\n",
       "      <th>Stock Price</th>\n",
       "      <th>Market Capitalization</th>\n",
       "      <th>Number of Shares to Buy</th>\n",
       "    </tr>\n",
       "  </thead>\n",
       "  <tbody>\n",
       "    <tr>\n",
       "      <th>0</th>\n",
       "      <td>IBM</td>\n",
       "      <td>151.56</td>\n",
       "      <td>132260014574</td>\n",
       "      <td>N/A</td>\n",
       "    </tr>\n",
       "  </tbody>\n",
       "</table>\n",
       "</div>"
      ],
      "text/plain": [
       "  Ticker  Stock Price Market Capitalization Number of Shares to Buy\n",
       "0    IBM       151.56          132260014574                     N/A"
      ]
     },
     "execution_count": 7,
     "metadata": {},
     "output_type": "execute_result"
    }
   ],
   "source": [
    "columns = ['Ticker', 'Stock Price', 'Market Capitalization', 'Number of Shares to Buy']\n",
    "df = pd.DataFrame(columns=columns)\n",
    "# every row, column is a pandas series \n",
    "# initialising dataframe and append a pandas series (a list, numpy array, dict can be turned into pandas series)\n",
    "df.append(\n",
    "    pd.Series(\n",
    "        [\n",
    "    symbol, \n",
    "    price, \n",
    "    market_cap, \n",
    "    'N/A'\n",
    "        ],\n",
    "    index=columns\n",
    "    ),\n",
    "    ignore_index=True\n",
    ")\n"
   ]
  },
  {
   "cell_type": "code",
   "execution_count": 8,
   "id": "31e78a51",
   "metadata": {},
   "outputs": [
    {
     "data": {
      "text/html": [
       "<div>\n",
       "<style scoped>\n",
       "    .dataframe tbody tr th:only-of-type {\n",
       "        vertical-align: middle;\n",
       "    }\n",
       "\n",
       "    .dataframe tbody tr th {\n",
       "        vertical-align: top;\n",
       "    }\n",
       "\n",
       "    .dataframe thead th {\n",
       "        text-align: right;\n",
       "    }\n",
       "</style>\n",
       "<table border=\"1\" class=\"dataframe\">\n",
       "  <thead>\n",
       "    <tr style=\"text-align: right;\">\n",
       "      <th></th>\n",
       "      <th>Ticker</th>\n",
       "      <th>Stock Price</th>\n",
       "      <th>Market Capitalization</th>\n",
       "      <th>Number of Shares to Buy</th>\n",
       "    </tr>\n",
       "  </thead>\n",
       "  <tbody>\n",
       "    <tr>\n",
       "      <th>0</th>\n",
       "      <td>A</td>\n",
       "      <td>138.50</td>\n",
       "      <td>42419306696</td>\n",
       "      <td>N/A</td>\n",
       "    </tr>\n",
       "    <tr>\n",
       "      <th>1</th>\n",
       "      <td>AAL</td>\n",
       "      <td>25.00</td>\n",
       "      <td>15619281639</td>\n",
       "      <td>N/A</td>\n",
       "    </tr>\n",
       "    <tr>\n",
       "      <th>2</th>\n",
       "      <td>AAP</td>\n",
       "      <td>200.95</td>\n",
       "      <td>13015412640</td>\n",
       "      <td>N/A</td>\n",
       "    </tr>\n",
       "    <tr>\n",
       "      <th>3</th>\n",
       "      <td>AAPL</td>\n",
       "      <td>131.83</td>\n",
       "      <td>2123294755521</td>\n",
       "      <td>N/A</td>\n",
       "    </tr>\n",
       "    <tr>\n",
       "      <th>4</th>\n",
       "      <td>ABBV</td>\n",
       "      <td>115.86</td>\n",
       "      <td>199538127027</td>\n",
       "      <td>N/A</td>\n",
       "    </tr>\n",
       "  </tbody>\n",
       "</table>\n",
       "</div>"
      ],
      "text/plain": [
       "  Ticker  Stock Price Market Capitalization Number of Shares to Buy\n",
       "0      A       138.50           42419306696                     N/A\n",
       "1    AAL        25.00           15619281639                     N/A\n",
       "2    AAP       200.95           13015412640                     N/A\n",
       "3   AAPL       131.83         2123294755521                     N/A\n",
       "4   ABBV       115.86          199538127027                     N/A"
      ]
     },
     "execution_count": 8,
     "metadata": {},
     "output_type": "execute_result"
    }
   ],
   "source": [
    "# looping through tickers in list of stocks \n",
    "df = pd.DataFrame(columns=columns)\n",
    "for stock in stocks['Ticker'][:5]:\n",
    "    base_url = 'https://sandbox.iexapis.com'\n",
    "    query_params = f'?token={IEX_CLOUD_API_TOKEN}'\n",
    "    api_call = f\"{base_url}/stable/stock/{stock}/quote{query_params}\"\n",
    "    # slow, next iteration do batch requests\n",
    "    data = requests.get(api_call).json()\n",
    "    df = df.append(\n",
    "        pd.Series(\n",
    "            [\n",
    "            stock, \n",
    "            data['latestPrice'],\n",
    "            data['marketCap'],\n",
    "            'N/A'\n",
    "            ],\n",
    "             index=columns,\n",
    "        ),\n",
    "        ignore_index=True,\n",
    "    )\n",
    "df"
   ]
  },
  {
   "cell_type": "markdown",
   "id": "6710634a",
   "metadata": {},
   "source": [
    "## Using Batch API Calls to Improve Performance\n",
    "- Easiest ways to improve performance of code\n",
    "- HTTP requests are typically slowest components of a script \n",
    "- API providers will often give discounted rates for using batch API calls since they are easier for API provider to respond to \n",
    "- IEX cloud limits batch API calls to 100 tickers per request\n"
   ]
  },
  {
   "cell_type": "code",
   "execution_count": 9,
   "id": "78cf0213",
   "metadata": {},
   "outputs": [],
   "source": [
    "# generator yields one item at a time, generates only when in demand \n",
    "# list comp, python reserves memory for whole list, list comp will create entire list in memory first\n",
    "# generators don't support indexing or slicing and cannot be added to lists\n",
    "# generators should be used if iterating once, memory efficient\n",
    "# if you want to store and use generated results, better off with list comp, list comp is fater\n",
    "def chunks(lst, n):\n",
    "    \"\"\"Yield successive n-sized chunks from list\"\"\"\n",
    "    for i in range(0, len(lst), n):\n",
    "        yield lst[i:i + n]\n",
    "        "
   ]
  },
  {
   "cell_type": "code",
   "execution_count": 10,
   "id": "ce189230",
   "metadata": {},
   "outputs": [
    {
     "data": {
      "text/html": [
       "<div>\n",
       "<style scoped>\n",
       "    .dataframe tbody tr th:only-of-type {\n",
       "        vertical-align: middle;\n",
       "    }\n",
       "\n",
       "    .dataframe tbody tr th {\n",
       "        vertical-align: top;\n",
       "    }\n",
       "\n",
       "    .dataframe thead th {\n",
       "        text-align: right;\n",
       "    }\n",
       "</style>\n",
       "<table border=\"1\" class=\"dataframe\">\n",
       "  <thead>\n",
       "    <tr style=\"text-align: right;\">\n",
       "      <th></th>\n",
       "      <th>Ticker</th>\n",
       "      <th>Stock Price</th>\n",
       "      <th>Market Capitalization</th>\n",
       "      <th>Number of Shares to Buy</th>\n",
       "    </tr>\n",
       "  </thead>\n",
       "  <tbody>\n",
       "    <tr>\n",
       "      <th>0</th>\n",
       "      <td>A</td>\n",
       "      <td>143.60</td>\n",
       "      <td>42833813145</td>\n",
       "      <td>N/A</td>\n",
       "    </tr>\n",
       "    <tr>\n",
       "      <th>1</th>\n",
       "      <td>AAL</td>\n",
       "      <td>24.90</td>\n",
       "      <td>15808043611</td>\n",
       "      <td>N/A</td>\n",
       "    </tr>\n",
       "    <tr>\n",
       "      <th>2</th>\n",
       "      <td>AAP</td>\n",
       "      <td>194.84</td>\n",
       "      <td>12620956274</td>\n",
       "      <td>N/A</td>\n",
       "    </tr>\n",
       "    <tr>\n",
       "      <th>3</th>\n",
       "      <td>AAPL</td>\n",
       "      <td>126.72</td>\n",
       "      <td>2195348059156</td>\n",
       "      <td>N/A</td>\n",
       "    </tr>\n",
       "    <tr>\n",
       "      <th>4</th>\n",
       "      <td>ABBV</td>\n",
       "      <td>112.97</td>\n",
       "      <td>203534948001</td>\n",
       "      <td>N/A</td>\n",
       "    </tr>\n",
       "    <tr>\n",
       "      <th>...</th>\n",
       "      <td>...</td>\n",
       "      <td>...</td>\n",
       "      <td>...</td>\n",
       "      <td>...</td>\n",
       "    </tr>\n",
       "    <tr>\n",
       "      <th>500</th>\n",
       "      <td>YUM</td>\n",
       "      <td>124.58</td>\n",
       "      <td>36322357554</td>\n",
       "      <td>N/A</td>\n",
       "    </tr>\n",
       "    <tr>\n",
       "      <th>501</th>\n",
       "      <td>ZBH</td>\n",
       "      <td>166.29</td>\n",
       "      <td>34414076784</td>\n",
       "      <td>N/A</td>\n",
       "    </tr>\n",
       "    <tr>\n",
       "      <th>502</th>\n",
       "      <td>ZBRA</td>\n",
       "      <td>526.14</td>\n",
       "      <td>28769487836</td>\n",
       "      <td>N/A</td>\n",
       "    </tr>\n",
       "    <tr>\n",
       "      <th>503</th>\n",
       "      <td>ZION</td>\n",
       "      <td>59.99</td>\n",
       "      <td>9985665620</td>\n",
       "      <td>N/A</td>\n",
       "    </tr>\n",
       "    <tr>\n",
       "      <th>504</th>\n",
       "      <td>ZTS</td>\n",
       "      <td>178.90</td>\n",
       "      <td>84155893785</td>\n",
       "      <td>N/A</td>\n",
       "    </tr>\n",
       "  </tbody>\n",
       "</table>\n",
       "<p>505 rows × 4 columns</p>\n",
       "</div>"
      ],
      "text/plain": [
       "    Ticker  Stock Price Market Capitalization Number of Shares to Buy\n",
       "0        A       143.60           42833813145                     N/A\n",
       "1      AAL        24.90           15808043611                     N/A\n",
       "2      AAP       194.84           12620956274                     N/A\n",
       "3     AAPL       126.72         2195348059156                     N/A\n",
       "4     ABBV       112.97          203534948001                     N/A\n",
       "..     ...          ...                   ...                     ...\n",
       "500    YUM       124.58           36322357554                     N/A\n",
       "501    ZBH       166.29           34414076784                     N/A\n",
       "502   ZBRA       526.14           28769487836                     N/A\n",
       "503   ZION        59.99            9985665620                     N/A\n",
       "504    ZTS       178.90           84155893785                     N/A\n",
       "\n",
       "[505 rows x 4 columns]"
      ]
     },
     "execution_count": 10,
     "metadata": {},
     "output_type": "execute_result"
    }
   ],
   "source": [
    "symbol_groups = list(chunks(stocks['Ticker'], 100))\n",
    "symbol_strings = []\n",
    "for index, symbol in enumerate(symbol_groups):\n",
    "    symbol_strings.append(','.join(symbol))\n",
    "    \n",
    "df = pd.DataFrame(columns=columns)\n",
    "for symbol_string in symbol_strings:\n",
    "    batch_api_call_url = f'https://sandbox.iexapis.com/stable/stock/market/batch?symbols={symbol_string}&types=quote&token={IEX_CLOUD_API_TOKEN}'\n",
    "    data = requests.get(batch_api_call_url).json()\n",
    "    for symbol in symbol_string.split(','):\n",
    "        df = df.append(\n",
    "        pd.Series(\n",
    "        [\n",
    "            symbol, \n",
    "            data[symbol]['quote']['latestPrice'],\n",
    "            data[symbol]['quote']['marketCap'],\n",
    "            'N/A'\n",
    "        ],\n",
    "        index=columns\n",
    "           # Do not use index values on concatenation axis\n",
    "        ),ignore_index=True)\n",
    "df\n",
    "    "
   ]
  },
  {
   "cell_type": "code",
   "execution_count": 11,
   "id": "13e58afa",
   "metadata": {},
   "outputs": [
    {
     "name": "stdout",
     "output_type": "stream",
     "text": [
      "Enter value of portfolio:\n",
      "10000000\n"
     ]
    }
   ],
   "source": [
    "portfolio_size = input('Enter value of portfolio:\\n')\n",
    "try:\n",
    "    val = float(portfolio_size)\n",
    "except ValueError:\n",
    "    print('Please enter an integer')\n",
    "    portfolio_size = input('Enter value of portfolio:\\n')\n",
    "    val = float(portfolio_size)"
   ]
  },
  {
   "cell_type": "code",
   "execution_count": 18,
   "id": "82fe24a3",
   "metadata": {},
   "outputs": [
    {
     "data": {
      "text/plain": [
       "39"
      ]
     },
     "execution_count": 18,
     "metadata": {},
     "output_type": "execute_result"
    }
   ],
   "source": [
    "position_size = val/len(df.index)\n",
    "number_of_apple_shares = position_size/500\n",
    "math.floor(number_of_apple_shares)\n",
    "for i in range(0, len(df.index)):\n",
    "    \n"
   ]
  }
 ],
 "metadata": {
  "kernelspec": {
   "display_name": "Python 3",
   "language": "python",
   "name": "python3"
  },
  "language_info": {
   "codemirror_mode": {
    "name": "ipython",
    "version": 3
   },
   "file_extension": ".py",
   "mimetype": "text/x-python",
   "name": "python",
   "nbconvert_exporter": "python",
   "pygments_lexer": "ipython3",
   "version": "3.8.6"
  }
 },
 "nbformat": 4,
 "nbformat_minor": 5
}
