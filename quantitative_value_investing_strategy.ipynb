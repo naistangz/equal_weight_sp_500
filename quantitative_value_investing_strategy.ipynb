{
 "cells": [
  {
   "cell_type": "markdown",
   "id": "ae435254",
   "metadata": {},
   "source": [
    "## Quantitative value investing (Systematic value investing)\n",
    "- Form of value investing that analyses fundamnetal data such as financial statement line items, economic data, unstructured data\n",
    "- Portfolio diversification and rebalancing method \n",
    "- Ranking the market and setting buy/sell rules\n",
    "- This project will build an investing strategy that selects the 50 stocks with the best value metrics\n",
    "- This will determine and calculate the recommended trades for an equal-weight portfolio of these 50 stocks"
   ]
  }
 ],
 "metadata": {
  "kernelspec": {
   "display_name": "Python 3",
   "language": "python",
   "name": "python3"
  },
  "language_info": {
   "codemirror_mode": {
    "name": "ipython",
    "version": 3
   },
   "file_extension": ".py",
   "mimetype": "text/x-python",
   "name": "python",
   "nbconvert_exporter": "python",
   "pygments_lexer": "ipython3",
   "version": "3.8.6"
  }
 },
 "nbformat": 4,
 "nbformat_minor": 5
}
