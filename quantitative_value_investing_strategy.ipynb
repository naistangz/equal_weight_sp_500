{
 "cells": [
  {
   "cell_type": "markdown",
   "id": "c3d5d931",
   "metadata": {},
   "source": [
    "## Quantitative value investing (Systematic value investing)\n",
    "- Form of value investing that analyses fundamnetal data such as financial statement line items, economic data, unstructured data\n",
    "- Portfolio diversification and rebalancing method \n",
    "- Ranking the market and setting buy/sell rules\n",
    "- This project will build an investing strategy that selects the 50 stocks with the best value metrics\n",
    "- This will determine and calculate the recommended trades for an equal-weight portfolio of these 50 stocks"
   ]
  },
  {
   "cell_type": "code",
   "execution_count": null,
   "id": "0512bee6",
   "metadata": {},
   "outputs": [],
   "source": [
    "import numpy as np \n",
    "import pandas as pd \n",
    "import xlsxwriter \n",
    "import requests\n",
    "from scipy import stats\n",
    "import math "
   ]
  },
  {
   "cell_type": "code",
   "execution_count": 3,
   "id": "a9a09217",
   "metadata": {},
   "outputs": [],
   "source": [
    "stocks = pd.read_csv('starter/sp_500_stocks.csv')\n",
    "from starter.secrets import IEX_CLOUD_API_TOKEN"
   ]
  },
  {
   "cell_type": "code",
   "execution_count": null,
   "id": "9922f257",
   "metadata": {},
   "outputs": [],
   "source": [
    "\"https://sandbox.iexapis.com/stable/stock/{symbol}/quote/{field}\""
   ]
  }
 ],
 "metadata": {
  "kernelspec": {
   "display_name": "Python 3",
   "language": "python",
   "name": "python3"
  },
  "language_info": {
   "codemirror_mode": {
    "name": "ipython",
    "version": 3
   },
   "file_extension": ".py",
   "mimetype": "text/x-python",
   "name": "python",
   "nbconvert_exporter": "python",
   "pygments_lexer": "ipython3",
   "version": "3.8.6"
  }
 },
 "nbformat": 4,
 "nbformat_minor": 5
}
